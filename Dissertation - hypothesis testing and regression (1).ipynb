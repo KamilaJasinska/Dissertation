{
 "cells": [
  {
   "cell_type": "markdown",
   "metadata": {},
   "source": [
    "### Hypothesis testing"
   ]
  },
  {
   "cell_type": "code",
   "execution_count": 423,
   "metadata": {},
   "outputs": [
    {
     "data": {
      "text/html": [
       "<table>\n",
       "<thead><tr><th scope=col>Projects</th><th scope=col>Shannon diversity index</th><th scope=col>Normalized Shannon/NH</th><th scope=col>Simpson's index</th><th scope=col>Normalized Simpson/NGV</th><th scope=col>Distance to target Simpson</th><th scope=col>Distance to target Shannon</th><th scope=col>Success</th></tr></thead>\n",
       "<tbody>\n",
       "\t<tr><td>Bagel     </td><td>1.459482  </td><td>0.57      </td><td>0.7377778 </td><td>0.81      </td><td>-0.2107210</td><td>-0.5621189</td><td>0         </td></tr>\n",
       "\t<tr><td>Bagel 2.0 </td><td>1.270018  </td><td>0.49      </td><td>0.6530612 </td><td>0.71      </td><td>-0.3424903</td><td>-0.7133499</td><td>0         </td></tr>\n",
       "\t<tr><td>Blazer    </td><td>1.236685  </td><td>0.48      </td><td>0.6805556 </td><td>0.74      </td><td>-0.3011051</td><td>-0.7339692</td><td>0         </td></tr>\n",
       "\t<tr><td>Boston    </td><td>1.771016  </td><td>0.69      </td><td>0.8046875 </td><td>0.88      </td><td>-0.1278334</td><td>-0.3710637</td><td>1         </td></tr>\n",
       "\t<tr><td>Crypto    </td><td>1.078992  </td><td>0.42      </td><td>0.6530612 </td><td>0.71      </td><td>-0.3424903</td><td>-0.8675006</td><td>0         </td></tr>\n",
       "\t<tr><td>Cupid     </td><td>1.411304  </td><td>0.55      </td><td>0.7083333 </td><td>0.77      </td><td>-0.2613648</td><td>-0.5978370</td><td>0         </td></tr>\n",
       "</tbody>\n",
       "</table>\n"
      ],
      "text/latex": [
       "\\begin{tabular}{r|llllllll}\n",
       " Projects & Shannon diversity index & Normalized Shannon/NH & Simpson's index & Normalized Simpson/NGV & Distance to target Simpson & Distance to target Shannon & Success\\\\\n",
       "\\hline\n",
       "\t Bagel      & 1.459482   & 0.57       & 0.7377778  & 0.81       & -0.2107210 & -0.5621189 & 0         \\\\\n",
       "\t Bagel 2.0  & 1.270018   & 0.49       & 0.6530612  & 0.71       & -0.3424903 & -0.7133499 & 0         \\\\\n",
       "\t Blazer     & 1.236685   & 0.48       & 0.6805556  & 0.74       & -0.3011051 & -0.7339692 & 0         \\\\\n",
       "\t Boston     & 1.771016   & 0.69       & 0.8046875  & 0.88       & -0.1278334 & -0.3710637 & 1         \\\\\n",
       "\t Crypto     & 1.078992   & 0.42       & 0.6530612  & 0.71       & -0.3424903 & -0.8675006 & 0         \\\\\n",
       "\t Cupid      & 1.411304   & 0.55       & 0.7083333  & 0.77       & -0.2613648 & -0.5978370 & 0         \\\\\n",
       "\\end{tabular}\n"
      ],
      "text/markdown": [
       "\n",
       "| Projects | Shannon diversity index | Normalized Shannon/NH | Simpson's index | Normalized Simpson/NGV | Distance to target Simpson | Distance to target Shannon | Success |\n",
       "|---|---|---|---|---|---|---|---|\n",
       "| Bagel      | 1.459482   | 0.57       | 0.7377778  | 0.81       | -0.2107210 | -0.5621189 | 0          |\n",
       "| Bagel 2.0  | 1.270018   | 0.49       | 0.6530612  | 0.71       | -0.3424903 | -0.7133499 | 0          |\n",
       "| Blazer     | 1.236685   | 0.48       | 0.6805556  | 0.74       | -0.3011051 | -0.7339692 | 0          |\n",
       "| Boston     | 1.771016   | 0.69       | 0.8046875  | 0.88       | -0.1278334 | -0.3710637 | 1          |\n",
       "| Crypto     | 1.078992   | 0.42       | 0.6530612  | 0.71       | -0.3424903 | -0.8675006 | 0          |\n",
       "| Cupid      | 1.411304   | 0.55       | 0.7083333  | 0.77       | -0.2613648 | -0.5978370 | 0          |\n",
       "\n"
      ],
      "text/plain": [
       "  Projects  Shannon diversity index Normalized Shannon/NH Simpson's index\n",
       "1 Bagel     1.459482                0.57                  0.7377778      \n",
       "2 Bagel 2.0 1.270018                0.49                  0.6530612      \n",
       "3 Blazer    1.236685                0.48                  0.6805556      \n",
       "4 Boston    1.771016                0.69                  0.8046875      \n",
       "5 Crypto    1.078992                0.42                  0.6530612      \n",
       "6 Cupid     1.411304                0.55                  0.7083333      \n",
       "  Normalized Simpson/NGV Distance to target Simpson Distance to target Shannon\n",
       "1 0.81                   -0.2107210                 -0.5621189                \n",
       "2 0.71                   -0.3424903                 -0.7133499                \n",
       "3 0.74                   -0.3011051                 -0.7339692                \n",
       "4 0.88                   -0.1278334                 -0.3710637                \n",
       "5 0.71                   -0.3424903                 -0.8675006                \n",
       "6 0.77                   -0.2613648                 -0.5978370                \n",
       "  Success\n",
       "1 0      \n",
       "2 0      \n",
       "3 0      \n",
       "4 1      \n",
       "5 0      \n",
       "6 0      "
      ]
     },
     "metadata": {},
     "output_type": "display_data"
    }
   ],
   "source": [
    "library(\"data.table\") #loading the data\n",
    "file_path <- \"C:/Users/kamil/Downloads/diversity.csv\"\n",
    "data_diversity <- fread(file_path,\n",
    " stringsAsFactors = F,\n",
    " data.table = T)\n",
    "\n",
    "head(data_diversity)"
   ]
  },
  {
   "cell_type": "code",
   "execution_count": 424,
   "metadata": {
    "scrolled": false
   },
   "outputs": [
    {
     "data": {
      "image/png": "[encoded data removed]",
      "text/plain": [
       "plot without title"
      ]
     },
     "metadata": {},
     "output_type": "display_data"
    }
   ],
   "source": [
    "#install.packages(\"ggpubr\") #box plots of NGV scores of successful and unsuccessful projects \n",
    "library(\"ggpubr\")\n",
    "ggboxplot(data_diversity, x = \"Success\", y = \"Normalized Simpson/NGV\", \n",
    "          color = \"Success\", palette = c(\"#00AFBB\", \"#E7B800\"),\n",
    "        ylab = \"Simpson\", xlab = \"Success\")"
   ]
  },
  {
   "cell_type": "code",
   "execution_count": 425,
   "metadata": {},
   "outputs": [],
   "source": [
    "colnames(data_diversity)[5] <- \"NGV\" #changing the column name"
   ]
  },
  {
   "cell_type": "code",
   "execution_count": 426,
   "metadata": {},
   "outputs": [
    {
     "data": {
      "text/html": [
       "<table>\n",
       "<thead><tr><th scope=col>Success</th><th scope=col>count</th><th scope=col>mean</th><th scope=col>sd</th></tr></thead>\n",
       "<tbody>\n",
       "\t<tr><td>0         </td><td>25        </td><td>0.7324    </td><td>0.09841578</td></tr>\n",
       "\t<tr><td>1         </td><td> 5        </td><td>0.8760    </td><td>0.03577709</td></tr>\n",
       "</tbody>\n",
       "</table>\n"
      ],
      "text/latex": [
       "\\begin{tabular}{r|llll}\n",
       " Success & count & mean & sd\\\\\n",
       "\\hline\n",
       "\t 0          & 25         & 0.7324     & 0.09841578\\\\\n",
       "\t 1          &  5         & 0.8760     & 0.03577709\\\\\n",
       "\\end{tabular}\n"
      ],
      "text/markdown": [
       "\n",
       "| Success | count | mean | sd |\n",
       "|---|---|---|---|\n",
       "| 0          | 25         | 0.7324     | 0.09841578 |\n",
       "| 1          |  5         | 0.8760     | 0.03577709 |\n",
       "\n"
      ],
      "text/plain": [
       "  Success count mean   sd        \n",
       "1 0       25    0.7324 0.09841578\n",
       "2 1        5    0.8760 0.03577709"
      ]
     },
     "metadata": {},
     "output_type": "display_data"
    }
   ],
   "source": [
    "library(dplyr) #means and standard deviations of successful and unsuccessful projects\n",
    "group_by(data_diversity, Success) %>%\n",
    "  summarise(\n",
    "    count = n(),\n",
    "    mean = mean(NGV, na.rm = TRUE),\n",
    "    sd = sd(NGV, na.rm = TRUE)\n",
    "  )"
   ]
  },
  {
   "cell_type": "code",
   "execution_count": 427,
   "metadata": {},
   "outputs": [
    {
     "data": {
      "text/plain": [
       "\n",
       "\tF test to compare two variances\n",
       "\n",
       "data:  NGV by Success\n",
       "F = 7.5669, num df = 24, denom df = 4, p-value = 0.06188\n",
       "alternative hypothesis: true ratio of variances is not equal to 1\n",
       "95 percent confidence interval:\n",
       "  0.8890894 25.5713630\n",
       "sample estimates:\n",
       "ratio of variances \n",
       "          7.566927 \n"
      ]
     },
     "metadata": {},
     "output_type": "display_data"
    }
   ],
   "source": [
    "res.ftest <- var.test(NGV ~ Success, data = data_diversity) #F-test\n",
    "res.ftest"
   ]
  },
  {
   "cell_type": "markdown",
   "metadata": {},
   "source": [
    "The p-value of F-test is p = 0.06188. It’s greater than the significance level alpha = 0.05 so there is no significant difference between the variances of the two sets of data. The classic t-test witch assume equality of the two variances can be used."
   ]
  },
  {
   "cell_type": "code",
   "execution_count": 400,
   "metadata": {},
   "outputs": [],
   "source": [
    "success <- data_diversity$NGV[data_diversity$Success==1] #groups for hypothesis testing\n",
    "no.success <- data_diversity$NGV[data_diversity$Success==0]"
   ]
  },
  {
   "cell_type": "code",
   "execution_count": 428,
   "metadata": {},
   "outputs": [
    {
     "data": {
      "text/plain": [
       "\n",
       "\tTwo Sample t-test\n",
       "\n",
       "data:  success and no.success\n",
       "t = 3.1822, df = 28, p-value = 0.001781\n",
       "alternative hypothesis: true difference in means is greater than 0\n",
       "95 percent confidence interval:\n",
       " 0.06683458        Inf\n",
       "sample estimates:\n",
       "mean of x mean of y \n",
       "   0.8760    0.7324 \n"
      ]
     },
     "metadata": {},
     "output_type": "display_data"
    }
   ],
   "source": [
    "t.test(success, no.success, #hypothesis testing ('successful' cognitve diversity scores are greater than 'unsuccessful')\n",
    "        var.equal = TRUE, alternative = \"greater\")"
   ]
  },
  {
   "cell_type": "markdown",
   "metadata": {},
   "source": [
    "### Regression"
   ]
  },
  {
   "cell_type": "code",
   "execution_count": 429,
   "metadata": {},
   "outputs": [
    {
     "data": {
      "text/html": [
       "<table>\n",
       "<thead><tr><th scope=col>prop_infj</th><th scope=col>prop_infp</th><th scope=col>prop_intj</th><th scope=col>prop_isfj</th><th scope=col>prop_isfp</th><th scope=col>prop_esfp</th><th scope=col>prop_intp</th><th scope=col>prop_istp</th><th scope=col>prop_enfj</th><th scope=col>prop_enfp</th><th scope=col>prop_estj</th><th scope=col>prop_estp</th><th scope=col>prop_entj</th><th scope=col>prop_istj</th><th scope=col>prop_entp</th><th scope=col>prop_esfj</th><th scope=col>GV</th><th scope=col>GV_p</th><th scope=col>Success</th></tr></thead>\n",
       "<tbody>\n",
       "\t<tr><td>0.1333   </td><td>0.4000   </td><td>0.2000   </td><td>0.200    </td><td>0.0667   </td><td>0.0000   </td><td>0.0000   </td><td>0.0000   </td><td>0.0000   </td><td>0.0000   </td><td>0        </td><td>0        </td><td>0        </td><td>0        </td><td>0        </td><td>0        </td><td>0.7377778</td><td>73.77778 </td><td>0        </td></tr>\n",
       "\t<tr><td>0.0000   </td><td>0.2857   </td><td>0.0714   </td><td>0.000    </td><td>0.0000   </td><td>0.0714   </td><td>0.5000   </td><td>0.0714   </td><td>0.0000   </td><td>0.0000   </td><td>0        </td><td>0        </td><td>0        </td><td>0        </td><td>0        </td><td>0        </td><td>0.6530612</td><td>65.30612 </td><td>0        </td></tr>\n",
       "\t<tr><td>0.1667   </td><td>0.3333   </td><td>0.0833   </td><td>0.000    </td><td>0.0000   </td><td>0.0000   </td><td>0.4167   </td><td>0.0000   </td><td>0.0000   </td><td>0.0000   </td><td>0        </td><td>0        </td><td>0        </td><td>0        </td><td>0        </td><td>0        </td><td>0.6805556</td><td>68.05556 </td><td>0        </td></tr>\n",
       "\t<tr><td>0.1875   </td><td>0.0625   </td><td>0.3125   </td><td>0.125    </td><td>0.0000   </td><td>0.0000   </td><td>0.0000   </td><td>0.1875   </td><td>0.0625   </td><td>0.0625   </td><td>0        </td><td>0        </td><td>0        </td><td>0        </td><td>0        </td><td>0        </td><td>0.8046875</td><td>80.46875 </td><td>1        </td></tr>\n",
       "\t<tr><td>0.0000   </td><td>0.2857   </td><td>0.2857   </td><td>0.000    </td><td>0.0000   </td><td>0.0000   </td><td>0.4286   </td><td>0.0000   </td><td>0.0000   </td><td>0.0000   </td><td>0        </td><td>0        </td><td>0        </td><td>0        </td><td>0        </td><td>0        </td><td>0.6530612</td><td>65.30612 </td><td>0        </td></tr>\n",
       "\t<tr><td>0.1250   </td><td>0.4583   </td><td>0.1250   </td><td>0.000    </td><td>0.0000   </td><td>0.0000   </td><td>0.2083   </td><td>0.0833   </td><td>0.0000   </td><td>0.0000   </td><td>0        </td><td>0        </td><td>0        </td><td>0        </td><td>0        </td><td>0        </td><td>0.7083333</td><td>70.83333 </td><td>0        </td></tr>\n",
       "</tbody>\n",
       "</table>\n"
      ],
      "text/latex": [
       "\\begin{tabular}{r|lllllllllllllllllll}\n",
       " prop\\_infj & prop\\_infp & prop\\_intj & prop\\_isfj & prop\\_isfp & prop\\_esfp & prop\\_intp & prop\\_istp & prop\\_enfj & prop\\_enfp & prop\\_estj & prop\\_estp & prop\\_entj & prop\\_istj & prop\\_entp & prop\\_esfj & GV & GV\\_p & Success\\\\\n",
       "\\hline\n",
       "\t 0.1333    & 0.4000    & 0.2000    & 0.200     & 0.0667    & 0.0000    & 0.0000    & 0.0000    & 0.0000    & 0.0000    & 0         & 0         & 0         & 0         & 0         & 0         & 0.7377778 & 73.77778  & 0        \\\\\n",
       "\t 0.0000    & 0.2857    & 0.0714    & 0.000     & 0.0000    & 0.0714    & 0.5000    & 0.0714    & 0.0000    & 0.0000    & 0         & 0         & 0         & 0         & 0         & 0         & 0.6530612 & 65.30612  & 0        \\\\\n",
       "\t 0.1667    & 0.3333    & 0.0833    & 0.000     & 0.0000    & 0.0000    & 0.4167    & 0.0000    & 0.0000    & 0.0000    & 0         & 0         & 0         & 0         & 0         & 0         & 0.6805556 & 68.05556  & 0        \\\\\n",
       "\t 0.1875    & 0.0625    & 0.3125    & 0.125     & 0.0000    & 0.0000    & 0.0000    & 0.1875    & 0.0625    & 0.0625    & 0         & 0         & 0         & 0         & 0         & 0         & 0.8046875 & 80.46875  & 1        \\\\\n",
       "\t 0.0000    & 0.2857    & 0.2857    & 0.000     & 0.0000    & 0.0000    & 0.4286    & 0.0000    & 0.0000    & 0.0000    & 0         & 0         & 0         & 0         & 0         & 0         & 0.6530612 & 65.30612  & 0        \\\\\n",
       "\t 0.1250    & 0.4583    & 0.1250    & 0.000     & 0.0000    & 0.0000    & 0.2083    & 0.0833    & 0.0000    & 0.0000    & 0         & 0         & 0         & 0         & 0         & 0         & 0.7083333 & 70.83333  & 0        \\\\\n",
       "\\end{tabular}\n"
      ],
      "text/markdown": [
       "\n",
       "| prop_infj | prop_infp | prop_intj | prop_isfj | prop_isfp | prop_esfp | prop_intp | prop_istp | prop_enfj | prop_enfp | prop_estj | prop_estp | prop_entj | prop_istj | prop_entp | prop_esfj | GV | GV_p | Success |\n",
       "|---|---|---|---|---|---|---|---|---|---|---|---|---|---|---|---|---|---|---|\n",
       "| 0.1333    | 0.4000    | 0.2000    | 0.200     | 0.0667    | 0.0000    | 0.0000    | 0.0000    | 0.0000    | 0.0000    | 0         | 0         | 0         | 0         | 0         | 0         | 0.7377778 | 73.77778  | 0         |\n",
       "| 0.0000    | 0.2857    | 0.0714    | 0.000     | 0.0000    | 0.0714    | 0.5000    | 0.0714    | 0.0000    | 0.0000    | 0         | 0         | 0         | 0         | 0         | 0         | 0.6530612 | 65.30612  | 0         |\n",
       "| 0.1667    | 0.3333    | 0.0833    | 0.000     | 0.0000    | 0.0000    | 0.4167    | 0.0000    | 0.0000    | 0.0000    | 0         | 0         | 0         | 0         | 0         | 0         | 0.6805556 | 68.05556  | 0         |\n",
       "| 0.1875    | 0.0625    | 0.3125    | 0.125     | 0.0000    | 0.0000    | 0.0000    | 0.1875    | 0.0625    | 0.0625    | 0         | 0         | 0         | 0         | 0         | 0         | 0.8046875 | 80.46875  | 1         |\n",
       "| 0.0000    | 0.2857    | 0.2857    | 0.000     | 0.0000    | 0.0000    | 0.4286    | 0.0000    | 0.0000    | 0.0000    | 0         | 0         | 0         | 0         | 0         | 0         | 0.6530612 | 65.30612  | 0         |\n",
       "| 0.1250    | 0.4583    | 0.1250    | 0.000     | 0.0000    | 0.0000    | 0.2083    | 0.0833    | 0.0000    | 0.0000    | 0         | 0         | 0         | 0         | 0         | 0         | 0.7083333 | 70.83333  | 0         |\n",
       "\n"
      ],
      "text/plain": [
       "  prop_infj prop_infp prop_intj prop_isfj prop_isfp prop_esfp prop_intp\n",
       "1 0.1333    0.4000    0.2000    0.200     0.0667    0.0000    0.0000   \n",
       "2 0.0000    0.2857    0.0714    0.000     0.0000    0.0714    0.5000   \n",
       "3 0.1667    0.3333    0.0833    0.000     0.0000    0.0000    0.4167   \n",
       "4 0.1875    0.0625    0.3125    0.125     0.0000    0.0000    0.0000   \n",
       "5 0.0000    0.2857    0.2857    0.000     0.0000    0.0000    0.4286   \n",
       "6 0.1250    0.4583    0.1250    0.000     0.0000    0.0000    0.2083   \n",
       "  prop_istp prop_enfj prop_enfp prop_estj prop_estp prop_entj prop_istj\n",
       "1 0.0000    0.0000    0.0000    0         0         0         0        \n",
       "2 0.0714    0.0000    0.0000    0         0         0         0        \n",
       "3 0.0000    0.0000    0.0000    0         0         0         0        \n",
       "4 0.1875    0.0625    0.0625    0         0         0         0        \n",
       "5 0.0000    0.0000    0.0000    0         0         0         0        \n",
       "6 0.0833    0.0000    0.0000    0         0         0         0        \n",
       "  prop_entp prop_esfj GV        GV_p     Success\n",
       "1 0         0         0.7377778 73.77778 0      \n",
       "2 0         0         0.6530612 65.30612 0      \n",
       "3 0         0         0.6805556 68.05556 0      \n",
       "4 0         0         0.8046875 80.46875 1      \n",
       "5 0         0         0.6530612 65.30612 0      \n",
       "6 0         0         0.7083333 70.83333 0      "
      ]
     },
     "metadata": {},
     "output_type": "display_data"
    }
   ],
   "source": [
    "library(\"data.table\") #loading data for regression with GV\n",
    "file_path <- \"C:/Users/kamil/Desktop/for_regression.csv\"\n",
    "regr <- fread(file_path,\n",
    " stringsAsFactors = F,\n",
    " data.table = T)\n",
    "\n",
    "head(regr)"
   ]
  },
  {
   "cell_type": "code",
   "execution_count": 430,
   "metadata": {},
   "outputs": [
    {
     "name": "stderr",
     "output_type": "stream",
     "text": [
      "Warning message in leaps.setup(x, y, wt = wt, nbest = nbest, nvmax = nvmax, force.in = force.in, :\n",
      "\"1  linear dependencies found\""
     ]
    },
    {
     "name": "stdout",
     "output_type": "stream",
     "text": [
      "Reordering variables and trying again:\n"
     ]
    },
    {
     "data": {
      "text/plain": [
       "Subset selection object\n",
       "Call: regsubsets.formula(Success ~ GV + prop_infj + prop_infp + prop_intj + \n",
       "    prop_isfj + prop_isfp + prop_esfp + prop_intp + prop_istp + \n",
       "    prop_enfj + prop_enfp + prop_estj + prop_estp + prop_entj + \n",
       "    prop_istj + prop_entp + prop_esfj, data = regr, nvmax = 18)\n",
       "17 Variables  (and intercept)\n",
       "          Forced in Forced out\n",
       "GV            FALSE      FALSE\n",
       "prop_infj     FALSE      FALSE\n",
       "prop_infp     FALSE      FALSE\n",
       "prop_intj     FALSE      FALSE\n",
       "prop_isfj     FALSE      FALSE\n",
       "prop_isfp     FALSE      FALSE\n",
       "prop_esfp     FALSE      FALSE\n",
       "prop_intp     FALSE      FALSE\n",
       "prop_istp     FALSE      FALSE\n",
       "prop_enfj     FALSE      FALSE\n",
       "prop_enfp     FALSE      FALSE\n",
       "prop_estj     FALSE      FALSE\n",
       "prop_entj     FALSE      FALSE\n",
       "prop_istj     FALSE      FALSE\n",
       "prop_entp     FALSE      FALSE\n",
       "prop_esfj     FALSE      FALSE\n",
       "prop_estp     FALSE      FALSE\n",
       "1 subsets of each size up to 16\n",
       "Selection Algorithm: exhaustive\n",
       "          GV  prop_infj prop_infp prop_intj prop_isfj prop_isfp prop_esfp\n",
       "1  ( 1 )  \"*\" \" \"       \" \"       \" \"       \" \"       \" \"       \" \"      \n",
       "2  ( 1 )  \"*\" \" \"       \" \"       \" \"       \" \"       \" \"       \" \"      \n",
       "3  ( 1 )  \"*\" \" \"       \" \"       \" \"       \" \"       \" \"       \" \"      \n",
       "4  ( 1 )  \"*\" \" \"       \" \"       \"*\"       \" \"       \" \"       \" \"      \n",
       "5  ( 1 )  \"*\" \" \"       \" \"       \"*\"       \" \"       \" \"       \" \"      \n",
       "6  ( 1 )  \"*\" \" \"       \" \"       \"*\"       \" \"       \" \"       \" \"      \n",
       "7  ( 1 )  \"*\" \" \"       \" \"       \"*\"       \" \"       \" \"       \" \"      \n",
       "8  ( 1 )  \"*\" \" \"       \" \"       \"*\"       \" \"       \" \"       \" \"      \n",
       "9  ( 1 )  \"*\" \" \"       \" \"       \"*\"       \"*\"       \" \"       \"*\"      \n",
       "10  ( 1 ) \"*\" \" \"       \" \"       \"*\"       \"*\"       \" \"       \"*\"      \n",
       "11  ( 1 ) \"*\" \" \"       \" \"       \"*\"       \"*\"       \" \"       \"*\"      \n",
       "12  ( 1 ) \"*\" \"*\"       \"*\"       \"*\"       \" \"       \"*\"       \" \"      \n",
       "13  ( 1 ) \"*\" \"*\"       \"*\"       \"*\"       \" \"       \"*\"       \" \"      \n",
       "14  ( 1 ) \"*\" \"*\"       \"*\"       \"*\"       \" \"       \"*\"       \" \"      \n",
       "15  ( 1 ) \"*\" \"*\"       \"*\"       \"*\"       \"*\"       \"*\"       \"*\"      \n",
       "16  ( 1 ) \"*\" \"*\"       \"*\"       \"*\"       \"*\"       \"*\"       \"*\"      \n",
       "          prop_intp prop_istp prop_enfj prop_enfp prop_estj prop_estp prop_entj\n",
       "1  ( 1 )  \" \"       \" \"       \" \"       \" \"       \" \"       \" \"       \" \"      \n",
       "2  ( 1 )  \" \"       \" \"       \"*\"       \" \"       \" \"       \" \"       \" \"      \n",
       "3  ( 1 )  \" \"       \" \"       \"*\"       \" \"       \" \"       \" \"       \" \"      \n",
       "4  ( 1 )  \" \"       \" \"       \"*\"       \" \"       \" \"       \" \"       \" \"      \n",
       "5  ( 1 )  \" \"       \"*\"       \"*\"       \" \"       \" \"       \" \"       \" \"      \n",
       "6  ( 1 )  \" \"       \"*\"       \"*\"       \" \"       \" \"       \" \"       \"*\"      \n",
       "7  ( 1 )  \" \"       \"*\"       \"*\"       \" \"       \" \"       \" \"       \"*\"      \n",
       "8  ( 1 )  \" \"       \"*\"       \"*\"       \" \"       \"*\"       \" \"       \"*\"      \n",
       "9  ( 1 )  \" \"       \" \"       \"*\"       \" \"       \"*\"       \" \"       \"*\"      \n",
       "10  ( 1 ) \" \"       \"*\"       \"*\"       \" \"       \"*\"       \" \"       \"*\"      \n",
       "11  ( 1 ) \"*\"       \"*\"       \"*\"       \" \"       \"*\"       \" \"       \"*\"      \n",
       "12  ( 1 ) \"*\"       \"*\"       \"*\"       \"*\"       \"*\"       \" \"       \"*\"      \n",
       "13  ( 1 ) \"*\"       \"*\"       \"*\"       \"*\"       \"*\"       \" \"       \"*\"      \n",
       "14  ( 1 ) \"*\"       \"*\"       \"*\"       \"*\"       \" \"       \"*\"       \"*\"      \n",
       "15  ( 1 ) \"*\"       \"*\"       \"*\"       \"*\"       \" \"       \" \"       \"*\"      \n",
       "16  ( 1 ) \"*\"       \"*\"       \"*\"       \"*\"       \"*\"       \" \"       \"*\"      \n",
       "          prop_istj prop_entp prop_esfj\n",
       "1  ( 1 )  \" \"       \" \"       \" \"      \n",
       "2  ( 1 )  \" \"       \" \"       \" \"      \n",
       "3  ( 1 )  \"*\"       \" \"       \" \"      \n",
       "4  ( 1 )  \"*\"       \" \"       \" \"      \n",
       "5  ( 1 )  \"*\"       \" \"       \" \"      \n",
       "6  ( 1 )  \"*\"       \" \"       \" \"      \n",
       "7  ( 1 )  \"*\"       \"*\"       \" \"      \n",
       "8  ( 1 )  \"*\"       \"*\"       \" \"      \n",
       "9  ( 1 )  \"*\"       \"*\"       \" \"      \n",
       "10  ( 1 ) \"*\"       \"*\"       \" \"      \n",
       "11  ( 1 ) \"*\"       \"*\"       \" \"      \n",
       "12  ( 1 ) \"*\"       \" \"       \" \"      \n",
       "13  ( 1 ) \"*\"       \"*\"       \" \"      \n",
       "14  ( 1 ) \"*\"       \"*\"       \"*\"      \n",
       "15  ( 1 ) \"*\"       \"*\"       \"*\"      \n",
       "16  ( 1 ) \"*\"       \"*\"       \"*\"      "
      ]
     },
     "metadata": {},
     "output_type": "display_data"
    }
   ],
   "source": [
    "#install.packages(\"leaps\")\n",
    "library(leaps)\n",
    "models <- regsubsets(Success ~ GV + \n",
    "                              prop_infj+ prop_infp+prop_intj+prop_isfj+prop_isfp+prop_esfp+prop_intp+prop_istp+prop_enfj+prop_enfp+prop_estj+prop_estp+prop_entj+prop_istj+prop_entp+prop_esfj, \n",
    "                            data = regr, nvmax = 18)\n",
    "\n",
    "summary(models) #best subsets with GV scores"
   ]
  },
  {
   "cell_type": "code",
   "execution_count": 431,
   "metadata": {},
   "outputs": [
    {
     "data": {
      "text/html": [
       "<table>\n",
       "<thead><tr><th scope=col>Adj.R2</th><th scope=col>CP</th><th scope=col>BIC</th></tr></thead>\n",
       "<tbody>\n",
       "\t<tr><td>4</td><td>4</td><td>4</td></tr>\n",
       "</tbody>\n",
       "</table>\n"
      ],
      "text/latex": [
       "\\begin{tabular}{r|lll}\n",
       " Adj.R2 & CP & BIC\\\\\n",
       "\\hline\n",
       "\t 4 & 4 & 4\\\\\n",
       "\\end{tabular}\n"
      ],
      "text/markdown": [
       "\n",
       "| Adj.R2 | CP | BIC |\n",
       "|---|---|---|\n",
       "| 4 | 4 | 4 |\n",
       "\n"
      ],
      "text/plain": [
       "  Adj.R2 CP BIC\n",
       "1 4      4  4  "
      ]
     },
     "metadata": {},
     "output_type": "display_data"
    }
   ],
   "source": [
    "res_sum <- summary(models) #best subset according to AdjR, CP and BIC\n",
    "data.frame(\n",
    "  Adj.R2 = which.max(res_sum$adjr2),\n",
    "  CP = which.min(res_sum$cp),\n",
    "  BIC = which.min(res_sum$bic)\n",
    ") #the one with 4 independent variables"
   ]
  },
  {
   "cell_type": "code",
   "execution_count": 432,
   "metadata": {},
   "outputs": [
    {
     "data": {
      "text/plain": [
       "Success ~ GV + prop_intj + prop_enfj + prop_istj\n",
       "<environment: 0x0000000041a6b8f0>"
      ]
     },
     "metadata": {},
     "output_type": "display_data"
    }
   ],
   "source": [
    "get_model_formula(4, models, \"Success\") #formula of the best model"
   ]
  },
  {
   "cell_type": "code",
   "execution_count": 433,
   "metadata": {},
   "outputs": [
    {
     "data": {
      "text/html": [
       "<table>\n",
       "<thead><tr><th scope=col>prop_infj</th><th scope=col>prop_infp</th><th scope=col>prop_intj</th><th scope=col>prop_isfj</th><th scope=col>prop_isfp</th><th scope=col>prop_esfp</th><th scope=col>prop_intp</th><th scope=col>prop_istp</th><th scope=col>prop_enfj</th><th scope=col>prop_enfp</th><th scope=col>prop_estj</th><th scope=col>prop_estp</th><th scope=col>prop_entj</th><th scope=col>prop_istj</th><th scope=col>prop_entp</th><th scope=col>prop_esfj</th><th scope=col>Entropy</th><th scope=col>Success</th></tr></thead>\n",
       "<tbody>\n",
       "\t<tr><td>0.1333  </td><td>0.4000  </td><td>0.2000  </td><td>0.200   </td><td>0.0667  </td><td>0.0000  </td><td>0.0000  </td><td>0.0000  </td><td>0.0000  </td><td>0.0000  </td><td>0       </td><td>0       </td><td>0       </td><td>0       </td><td>0       </td><td>0       </td><td>1.459482</td><td>0       </td></tr>\n",
       "\t<tr><td>0.0000  </td><td>0.2857  </td><td>0.0714  </td><td>0.000   </td><td>0.0000  </td><td>0.0714  </td><td>0.5000  </td><td>0.0714  </td><td>0.0000  </td><td>0.0000  </td><td>0       </td><td>0       </td><td>0       </td><td>0       </td><td>0       </td><td>0       </td><td>1.270018</td><td>0       </td></tr>\n",
       "\t<tr><td>0.1667  </td><td>0.3333  </td><td>0.0833  </td><td>0.000   </td><td>0.0000  </td><td>0.0000  </td><td>0.4167  </td><td>0.0000  </td><td>0.0000  </td><td>0.0000  </td><td>0       </td><td>0       </td><td>0       </td><td>0       </td><td>0       </td><td>0       </td><td>1.236685</td><td>0       </td></tr>\n",
       "\t<tr><td>0.1875  </td><td>0.0625  </td><td>0.3125  </td><td>0.125   </td><td>0.0000  </td><td>0.0000  </td><td>0.0000  </td><td>0.1875  </td><td>0.0625  </td><td>0.0625  </td><td>0       </td><td>0       </td><td>0       </td><td>0       </td><td>0       </td><td>0       </td><td>1.771016</td><td>1       </td></tr>\n",
       "\t<tr><td>0.0000  </td><td>0.2857  </td><td>0.2857  </td><td>0.000   </td><td>0.0000  </td><td>0.0000  </td><td>0.4286  </td><td>0.0000  </td><td>0.0000  </td><td>0.0000  </td><td>0       </td><td>0       </td><td>0       </td><td>0       </td><td>0       </td><td>0       </td><td>1.078992</td><td>0       </td></tr>\n",
       "\t<tr><td>0.1250  </td><td>0.4583  </td><td>0.1250  </td><td>0.000   </td><td>0.0000  </td><td>0.0000  </td><td>0.2083  </td><td>0.0833  </td><td>0.0000  </td><td>0.0000  </td><td>0       </td><td>0       </td><td>0       </td><td>0       </td><td>0       </td><td>0       </td><td>1.411304</td><td>0       </td></tr>\n",
       "</tbody>\n",
       "</table>\n"
      ],
      "text/latex": [
       "\\begin{tabular}{r|llllllllllllllllll}\n",
       " prop\\_infj & prop\\_infp & prop\\_intj & prop\\_isfj & prop\\_isfp & prop\\_esfp & prop\\_intp & prop\\_istp & prop\\_enfj & prop\\_enfp & prop\\_estj & prop\\_estp & prop\\_entj & prop\\_istj & prop\\_entp & prop\\_esfj & Entropy & Success\\\\\n",
       "\\hline\n",
       "\t 0.1333   & 0.4000   & 0.2000   & 0.200    & 0.0667   & 0.0000   & 0.0000   & 0.0000   & 0.0000   & 0.0000   & 0        & 0        & 0        & 0        & 0        & 0        & 1.459482 & 0       \\\\\n",
       "\t 0.0000   & 0.2857   & 0.0714   & 0.000    & 0.0000   & 0.0714   & 0.5000   & 0.0714   & 0.0000   & 0.0000   & 0        & 0        & 0        & 0        & 0        & 0        & 1.270018 & 0       \\\\\n",
       "\t 0.1667   & 0.3333   & 0.0833   & 0.000    & 0.0000   & 0.0000   & 0.4167   & 0.0000   & 0.0000   & 0.0000   & 0        & 0        & 0        & 0        & 0        & 0        & 1.236685 & 0       \\\\\n",
       "\t 0.1875   & 0.0625   & 0.3125   & 0.125    & 0.0000   & 0.0000   & 0.0000   & 0.1875   & 0.0625   & 0.0625   & 0        & 0        & 0        & 0        & 0        & 0        & 1.771016 & 1       \\\\\n",
       "\t 0.0000   & 0.2857   & 0.2857   & 0.000    & 0.0000   & 0.0000   & 0.4286   & 0.0000   & 0.0000   & 0.0000   & 0        & 0        & 0        & 0        & 0        & 0        & 1.078992 & 0       \\\\\n",
       "\t 0.1250   & 0.4583   & 0.1250   & 0.000    & 0.0000   & 0.0000   & 0.2083   & 0.0833   & 0.0000   & 0.0000   & 0        & 0        & 0        & 0        & 0        & 0        & 1.411304 & 0       \\\\\n",
       "\\end{tabular}\n"
      ],
      "text/markdown": [
       "\n",
       "| prop_infj | prop_infp | prop_intj | prop_isfj | prop_isfp | prop_esfp | prop_intp | prop_istp | prop_enfj | prop_enfp | prop_estj | prop_estp | prop_entj | prop_istj | prop_entp | prop_esfj | Entropy | Success |\n",
       "|---|---|---|---|---|---|---|---|---|---|---|---|---|---|---|---|---|---|\n",
       "| 0.1333   | 0.4000   | 0.2000   | 0.200    | 0.0667   | 0.0000   | 0.0000   | 0.0000   | 0.0000   | 0.0000   | 0        | 0        | 0        | 0        | 0        | 0        | 1.459482 | 0        |\n",
       "| 0.0000   | 0.2857   | 0.0714   | 0.000    | 0.0000   | 0.0714   | 0.5000   | 0.0714   | 0.0000   | 0.0000   | 0        | 0        | 0        | 0        | 0        | 0        | 1.270018 | 0        |\n",
       "| 0.1667   | 0.3333   | 0.0833   | 0.000    | 0.0000   | 0.0000   | 0.4167   | 0.0000   | 0.0000   | 0.0000   | 0        | 0        | 0        | 0        | 0        | 0        | 1.236685 | 0        |\n",
       "| 0.1875   | 0.0625   | 0.3125   | 0.125    | 0.0000   | 0.0000   | 0.0000   | 0.1875   | 0.0625   | 0.0625   | 0        | 0        | 0        | 0        | 0        | 0        | 1.771016 | 1        |\n",
       "| 0.0000   | 0.2857   | 0.2857   | 0.000    | 0.0000   | 0.0000   | 0.4286   | 0.0000   | 0.0000   | 0.0000   | 0        | 0        | 0        | 0        | 0        | 0        | 1.078992 | 0        |\n",
       "| 0.1250   | 0.4583   | 0.1250   | 0.000    | 0.0000   | 0.0000   | 0.2083   | 0.0833   | 0.0000   | 0.0000   | 0        | 0        | 0        | 0        | 0        | 0        | 1.411304 | 0        |\n",
       "\n"
      ],
      "text/plain": [
       "  prop_infj prop_infp prop_intj prop_isfj prop_isfp prop_esfp prop_intp\n",
       "1 0.1333    0.4000    0.2000    0.200     0.0667    0.0000    0.0000   \n",
       "2 0.0000    0.2857    0.0714    0.000     0.0000    0.0714    0.5000   \n",
       "3 0.1667    0.3333    0.0833    0.000     0.0000    0.0000    0.4167   \n",
       "4 0.1875    0.0625    0.3125    0.125     0.0000    0.0000    0.0000   \n",
       "5 0.0000    0.2857    0.2857    0.000     0.0000    0.0000    0.4286   \n",
       "6 0.1250    0.4583    0.1250    0.000     0.0000    0.0000    0.2083   \n",
       "  prop_istp prop_enfj prop_enfp prop_estj prop_estp prop_entj prop_istj\n",
       "1 0.0000    0.0000    0.0000    0         0         0         0        \n",
       "2 0.0714    0.0000    0.0000    0         0         0         0        \n",
       "3 0.0000    0.0000    0.0000    0         0         0         0        \n",
       "4 0.1875    0.0625    0.0625    0         0         0         0        \n",
       "5 0.0000    0.0000    0.0000    0         0         0         0        \n",
       "6 0.0833    0.0000    0.0000    0         0         0         0        \n",
       "  prop_entp prop_esfj Entropy  Success\n",
       "1 0         0         1.459482 0      \n",
       "2 0         0         1.270018 0      \n",
       "3 0         0         1.236685 0      \n",
       "4 0         0         1.771016 1      \n",
       "5 0         0         1.078992 0      \n",
       "6 0         0         1.411304 0      "
      ]
     },
     "metadata": {},
     "output_type": "display_data"
    }
   ],
   "source": [
    "library(\"data.table\") #loading data for regression with Entropy\n",
    "file_path <- \"C:/Users/kamil/Desktop/for_regression2.csv\"\n",
    "regr2 <- fread(file_path,\n",
    " stringsAsFactors = F,\n",
    " data.table = T)\n",
    "\n",
    "head(regr2)"
   ]
  },
  {
   "cell_type": "code",
   "execution_count": 434,
   "metadata": {},
   "outputs": [
    {
     "name": "stderr",
     "output_type": "stream",
     "text": [
      "Warning message in leaps.setup(x, y, wt = wt, nbest = nbest, nvmax = nvmax, force.in = force.in, :\n",
      "\"1  linear dependencies found\""
     ]
    },
    {
     "name": "stdout",
     "output_type": "stream",
     "text": [
      "Reordering variables and trying again:\n"
     ]
    },
    {
     "data": {
      "text/plain": [
       "Subset selection object\n",
       "Call: regsubsets.formula(Success ~ Entropy + prop_infj + prop_infp + \n",
       "    prop_intj + prop_isfj + prop_isfp + prop_esfp + prop_intp + \n",
       "    prop_istp + prop_enfj + prop_enfp + prop_estj + prop_estp + \n",
       "    prop_entj + prop_istj + prop_entp + prop_esfj, data = regr2, \n",
       "    nvmax = 18)\n",
       "17 Variables  (and intercept)\n",
       "          Forced in Forced out\n",
       "Entropy       FALSE      FALSE\n",
       "prop_infj     FALSE      FALSE\n",
       "prop_infp     FALSE      FALSE\n",
       "prop_intj     FALSE      FALSE\n",
       "prop_isfj     FALSE      FALSE\n",
       "prop_isfp     FALSE      FALSE\n",
       "prop_esfp     FALSE      FALSE\n",
       "prop_intp     FALSE      FALSE\n",
       "prop_istp     FALSE      FALSE\n",
       "prop_enfj     FALSE      FALSE\n",
       "prop_enfp     FALSE      FALSE\n",
       "prop_estj     FALSE      FALSE\n",
       "prop_entj     FALSE      FALSE\n",
       "prop_istj     FALSE      FALSE\n",
       "prop_entp     FALSE      FALSE\n",
       "prop_esfj     FALSE      FALSE\n",
       "prop_estp     FALSE      FALSE\n",
       "1 subsets of each size up to 16\n",
       "Selection Algorithm: exhaustive\n",
       "          Entropy prop_infj prop_infp prop_intj prop_isfj prop_isfp prop_esfp\n",
       "1  ( 1 )  \"*\"     \" \"       \" \"       \" \"       \" \"       \" \"       \" \"      \n",
       "2  ( 1 )  \"*\"     \" \"       \" \"       \" \"       \" \"       \" \"       \" \"      \n",
       "3  ( 1 )  \"*\"     \" \"       \" \"       \" \"       \" \"       \" \"       \" \"      \n",
       "4  ( 1 )  \"*\"     \" \"       \" \"       \"*\"       \" \"       \" \"       \" \"      \n",
       "5  ( 1 )  \"*\"     \" \"       \" \"       \"*\"       \" \"       \"*\"       \" \"      \n",
       "6  ( 1 )  \"*\"     \" \"       \" \"       \"*\"       \" \"       \"*\"       \" \"      \n",
       "7  ( 1 )  \"*\"     \" \"       \" \"       \"*\"       \" \"       \"*\"       \" \"      \n",
       "8  ( 1 )  \"*\"     \"*\"       \"*\"       \"*\"       \" \"       \" \"       \" \"      \n",
       "9  ( 1 )  \"*\"     \" \"       \" \"       \"*\"       \"*\"       \" \"       \"*\"      \n",
       "10  ( 1 ) \"*\"     \"*\"       \"*\"       \"*\"       \" \"       \" \"       \" \"      \n",
       "11  ( 1 ) \"*\"     \"*\"       \"*\"       \"*\"       \" \"       \" \"       \"*\"      \n",
       "12  ( 1 ) \"*\"     \"*\"       \"*\"       \"*\"       \" \"       \" \"       \"*\"      \n",
       "13  ( 1 ) \"*\"     \"*\"       \"*\"       \"*\"       \" \"       \" \"       \"*\"      \n",
       "14  ( 1 ) \"*\"     \"*\"       \"*\"       \"*\"       \" \"       \"*\"       \"*\"      \n",
       "15  ( 1 ) \"*\"     \"*\"       \"*\"       \"*\"       \"*\"       \"*\"       \" \"      \n",
       "16  ( 1 ) \"*\"     \"*\"       \"*\"       \"*\"       \"*\"       \"*\"       \"*\"      \n",
       "          prop_intp prop_istp prop_enfj prop_enfp prop_estj prop_estp prop_entj\n",
       "1  ( 1 )  \" \"       \" \"       \" \"       \" \"       \" \"       \" \"       \" \"      \n",
       "2  ( 1 )  \" \"       \" \"       \"*\"       \" \"       \" \"       \" \"       \" \"      \n",
       "3  ( 1 )  \" \"       \" \"       \"*\"       \" \"       \" \"       \" \"       \" \"      \n",
       "4  ( 1 )  \" \"       \" \"       \"*\"       \" \"       \" \"       \" \"       \" \"      \n",
       "5  ( 1 )  \" \"       \" \"       \"*\"       \" \"       \" \"       \" \"       \" \"      \n",
       "6  ( 1 )  \" \"       \" \"       \"*\"       \" \"       \" \"       \" \"       \" \"      \n",
       "7  ( 1 )  \" \"       \"*\"       \"*\"       \" \"       \" \"       \" \"       \" \"      \n",
       "8  ( 1 )  \"*\"       \"*\"       \"*\"       \" \"       \" \"       \" \"       \" \"      \n",
       "9  ( 1 )  \" \"       \"*\"       \"*\"       \" \"       \" \"       \"*\"       \" \"      \n",
       "10  ( 1 ) \"*\"       \"*\"       \"*\"       \"*\"       \" \"       \" \"       \"*\"      \n",
       "11  ( 1 ) \"*\"       \"*\"       \"*\"       \"*\"       \" \"       \" \"       \"*\"      \n",
       "12  ( 1 ) \"*\"       \"*\"       \"*\"       \"*\"       \" \"       \"*\"       \"*\"      \n",
       "13  ( 1 ) \"*\"       \"*\"       \"*\"       \"*\"       \" \"       \"*\"       \"*\"      \n",
       "14  ( 1 ) \"*\"       \"*\"       \"*\"       \"*\"       \" \"       \"*\"       \"*\"      \n",
       "15  ( 1 ) \"*\"       \"*\"       \"*\"       \"*\"       \"*\"       \" \"       \"*\"      \n",
       "16  ( 1 ) \"*\"       \"*\"       \"*\"       \"*\"       \"*\"       \" \"       \"*\"      \n",
       "          prop_istj prop_entp prop_esfj\n",
       "1  ( 1 )  \" \"       \" \"       \" \"      \n",
       "2  ( 1 )  \" \"       \" \"       \" \"      \n",
       "3  ( 1 )  \"*\"       \" \"       \" \"      \n",
       "4  ( 1 )  \"*\"       \" \"       \" \"      \n",
       "5  ( 1 )  \"*\"       \" \"       \" \"      \n",
       "6  ( 1 )  \"*\"       \"*\"       \" \"      \n",
       "7  ( 1 )  \"*\"       \"*\"       \" \"      \n",
       "8  ( 1 )  \"*\"       \" \"       \" \"      \n",
       "9  ( 1 )  \"*\"       \"*\"       \" \"      \n",
       "10  ( 1 ) \"*\"       \" \"       \" \"      \n",
       "11  ( 1 ) \"*\"       \" \"       \" \"      \n",
       "12  ( 1 ) \"*\"       \" \"       \" \"      \n",
       "13  ( 1 ) \"*\"       \"*\"       \" \"      \n",
       "14  ( 1 ) \"*\"       \"*\"       \" \"      \n",
       "15  ( 1 ) \"*\"       \"*\"       \"*\"      \n",
       "16  ( 1 ) \"*\"       \"*\"       \"*\"      "
      ]
     },
     "metadata": {},
     "output_type": "display_data"
    }
   ],
   "source": [
    "library(leaps)\n",
    "models2 <- regsubsets(Success ~ Entropy + \n",
    "                              prop_infj+ prop_infp+prop_intj+prop_isfj+prop_isfp+prop_esfp+prop_intp+prop_istp+prop_enfj+prop_enfp+prop_estj+prop_estp+prop_entj+prop_istj+prop_entp+prop_esfj, \n",
    "                            data = regr2, nvmax = 18)\n",
    "\n",
    "summary(models2)  #best subsets wtih Entropy scores "
   ]
  },
  {
   "cell_type": "code",
   "execution_count": 435,
   "metadata": {},
   "outputs": [
    {
     "data": {
      "text/html": [
       "<table>\n",
       "<thead><tr><th scope=col>Adj.R2</th><th scope=col>CP</th><th scope=col>BIC</th></tr></thead>\n",
       "<tbody>\n",
       "\t<tr><td>6</td><td>1</td><td>1</td></tr>\n",
       "</tbody>\n",
       "</table>\n"
      ],
      "text/latex": [
       "\\begin{tabular}{r|lll}\n",
       " Adj.R2 & CP & BIC\\\\\n",
       "\\hline\n",
       "\t 6 & 1 & 1\\\\\n",
       "\\end{tabular}\n"
      ],
      "text/markdown": [
       "\n",
       "| Adj.R2 | CP | BIC |\n",
       "|---|---|---|\n",
       "| 6 | 1 | 1 |\n",
       "\n"
      ],
      "text/plain": [
       "  Adj.R2 CP BIC\n",
       "1 6      1  1  "
      ]
     },
     "metadata": {},
     "output_type": "display_data"
    }
   ],
   "source": [
    "res_sum2 <- summary(models2) #best subset according to AdjR, CP and BIC\n",
    "data.frame(\n",
    "  Adj.R2 = which.max(res_sum2$adjr2),\n",
    "  CP = which.min(res_sum2$cp),\n",
    "  BIC = which.min(res_sum2$bic)\n",
    ") "
   ]
  },
  {
   "cell_type": "code",
   "execution_count": 436,
   "metadata": {},
   "outputs": [
    {
     "data": {
      "text/plain": [
       "Success ~ Entropy\n",
       "<environment: 0x000000006be686d0>"
      ]
     },
     "metadata": {},
     "output_type": "display_data"
    }
   ],
   "source": [
    "get_model_formula(1, models2, \"Success\") #formula of the best model accorrding to CP and BIC "
   ]
  },
  {
   "cell_type": "code",
   "execution_count": 437,
   "metadata": {},
   "outputs": [
    {
     "data": {
      "text/plain": [
       "\n",
       "Call:\n",
       "glm(formula = Success ~ Entropy, family = binomial, data = regr2)\n",
       "\n",
       "Deviance Residuals: \n",
       "     Min        1Q    Median        3Q       Max  \n",
       "-1.54268  -0.36674  -0.19347  -0.09975   1.72964  \n",
       "\n",
       "Coefficients:\n",
       "            Estimate Std. Error z value Pr(>|z|)  \n",
       "(Intercept)  -12.234      4.890  -2.502   0.0124 *\n",
       "Entropy        6.732      2.858   2.356   0.0185 *\n",
       "---\n",
       "Signif. codes:  0 '***' 0.001 '**' 0.01 '*' 0.05 '.' 0.1 ' ' 1\n",
       "\n",
       "(Dispersion parameter for binomial family taken to be 1)\n",
       "\n",
       "    Null deviance: 27.034  on 29  degrees of freedom\n",
       "Residual deviance: 16.669  on 28  degrees of freedom\n",
       "AIC: 20.669\n",
       "\n",
       "Number of Fisher Scoring iterations: 6\n"
      ]
     },
     "metadata": {},
     "output_type": "display_data"
    }
   ],
   "source": [
    "logit_3 <- glm(Success ~ Entropy, data = regr2, family=binomial) #Entropy as the only predictor\n",
    "summary(logit_3)"
   ]
  },
  {
   "cell_type": "code",
   "execution_count": 438,
   "metadata": {},
   "outputs": [
    {
     "data": {
      "text/plain": [
       "\n",
       "Call:\n",
       "glm(formula = Success ~ GV_p, family = binomial, data = regr)\n",
       "\n",
       "Deviance Residuals: \n",
       "     Min        1Q    Median        3Q       Max  \n",
       "-1.35378  -0.37560  -0.10361  -0.03177   1.89307  \n",
       "\n",
       "Coefficients:\n",
       "            Estimate Std. Error z value Pr(>|z|)  \n",
       "(Intercept) -25.2354    11.8027  -2.138   0.0325 *\n",
       "GV_p          0.3127     0.1496   2.090   0.0366 *\n",
       "---\n",
       "Signif. codes:  0 '***' 0.001 '**' 0.01 '*' 0.05 '.' 0.1 ' ' 1\n",
       "\n",
       "(Dispersion parameter for binomial family taken to be 1)\n",
       "\n",
       "    Null deviance: 27.034  on 29  degrees of freedom\n",
       "Residual deviance: 15.920  on 28  degrees of freedom\n",
       "AIC: 19.92\n",
       "\n",
       "Number of Fisher Scoring iterations: 7\n"
      ]
     },
     "metadata": {},
     "output_type": "display_data"
    }
   ],
   "source": [
    "logit_4 <- glm(Success ~ GV_p, data = regr, family=binomial) #GV as the only predictor\n",
    "summary(logit_4)"
   ]
  }
 ],
 "metadata": {
  "kernelspec": {
   "display_name": "R",
   "language": "R",
   "name": "ir"
  },
  "language_info": {
   "codemirror_mode": "r",
   "file_extension": ".r",
   "mimetype": "text/x-r-source",
   "name": "R",
   "pygments_lexer": "r",
   "version": "3.6.1"
  }
 },
 "nbformat": 4,
 "nbformat_minor": 4
}
